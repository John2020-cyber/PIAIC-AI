{
  "nbformat": 4,
  "nbformat_minor": 0,
  "metadata": {
    "colab": {
      "name": "A1.ipynb",
      "provenance": [],
      "collapsed_sections": []
    },
    "kernelspec": {
      "name": "python3",
      "display_name": "Python 3"
    }
  },
  "cells": [
    {
      "cell_type": "markdown",
      "metadata": {
        "id": "fJ_ddXeHL-5B"
      },
      "source": [
        "1. Importing numpy and using it as np for ease."
      ]
    },
    {
      "cell_type": "code",
      "metadata": {
        "id": "cAOLYEmnJ6Fc"
      },
      "source": [
        "import numpy as np"
      ],
      "execution_count": 183,
      "outputs": []
    },
    {
      "cell_type": "markdown",
      "metadata": {
        "id": "xtX0AFIUL_c3"
      },
      "source": [
        "2. Print numpy version"
      ]
    },
    {
      "cell_type": "code",
      "metadata": {
        "id": "fK-AGiTdMAGI",
        "colab": {
          "base_uri": "https://localhost:8080/"
        },
        "outputId": "4e47fb6b-a27d-4a76-bd1c-83d85894746f"
      },
      "source": [
        "print(np.__version__)"
      ],
      "execution_count": 184,
      "outputs": [
        {
          "output_type": "stream",
          "text": [
            "1.19.4\n"
          ],
          "name": "stdout"
        }
      ]
    },
    {
      "cell_type": "markdown",
      "metadata": {
        "id": "6am-LFtSNb4U"
      },
      "source": [
        "3. Printing numpy array of 10"
      ]
    },
    {
      "cell_type": "code",
      "metadata": {
        "colab": {
          "base_uri": "https://localhost:8080/"
        },
        "id": "SBl8PWcaNhqq",
        "outputId": "0b3f9a04-515b-4a0c-d520-cf7a7731c1c8"
      },
      "source": [
        "ar1d = np.arange(15)\r\n",
        "ar1d"
      ],
      "execution_count": 185,
      "outputs": [
        {
          "output_type": "execute_result",
          "data": {
            "text/plain": [
              "array([ 0,  1,  2,  3,  4,  5,  6,  7,  8,  9, 10, 11, 12, 13, 14])"
            ]
          },
          "metadata": {
            "tags": []
          },
          "execution_count": 185
        }
      ]
    },
    {
      "cell_type": "markdown",
      "metadata": {
        "id": "YUCGyrsvN-7B"
      },
      "source": [
        "4. Converting ar1d to 2D array (using -1 to fill the matrix)"
      ]
    },
    {
      "cell_type": "code",
      "metadata": {
        "colab": {
          "base_uri": "https://localhost:8080/"
        },
        "id": "7mWCbb5nOCsR",
        "outputId": "c8bb372c-fafa-49d3-9ad1-24ebe5617395"
      },
      "source": [
        "ar2d = ar1d.reshape(3,-1)\r\n",
        "ar2d"
      ],
      "execution_count": 186,
      "outputs": [
        {
          "output_type": "execute_result",
          "data": {
            "text/plain": [
              "array([[ 0,  1,  2,  3,  4],\n",
              "       [ 5,  6,  7,  8,  9],\n",
              "       [10, 11, 12, 13, 14]])"
            ]
          },
          "metadata": {
            "tags": []
          },
          "execution_count": 186
        }
      ]
    },
    {
      "cell_type": "markdown",
      "metadata": {
        "id": "V0nAZhMxORD9"
      },
      "source": [
        "5. Converting ar1d to 3D array"
      ]
    },
    {
      "cell_type": "code",
      "metadata": {
        "colab": {
          "base_uri": "https://localhost:8080/"
        },
        "id": "ZKtea7EFOu72",
        "outputId": "8fdd142e-1bb0-4652-a30e-83057de53d44"
      },
      "source": [
        "ar3d = ar1d.reshape(1,5,3)\r\n",
        "ar3d"
      ],
      "execution_count": 187,
      "outputs": [
        {
          "output_type": "execute_result",
          "data": {
            "text/plain": [
              "array([[[ 0,  1,  2],\n",
              "        [ 3,  4,  5],\n",
              "        [ 6,  7,  8],\n",
              "        [ 9, 10, 11],\n",
              "        [12, 13, 14]]])"
            ]
          },
          "metadata": {
            "tags": []
          },
          "execution_count": 187
        }
      ]
    },
    {
      "cell_type": "markdown",
      "metadata": {
        "id": "__PrrzhbPwCH"
      },
      "source": [
        "6. shape of 3d array"
      ]
    },
    {
      "cell_type": "code",
      "metadata": {
        "colab": {
          "base_uri": "https://localhost:8080/"
        },
        "id": "mQ320sIZO3z3",
        "outputId": "5370ffa4-1a72-48e5-c673-d0cfb80e3562"
      },
      "source": [
        "ar3d.shape"
      ],
      "execution_count": 188,
      "outputs": [
        {
          "output_type": "execute_result",
          "data": {
            "text/plain": [
              "(1, 5, 3)"
            ]
          },
          "metadata": {
            "tags": []
          },
          "execution_count": 188
        }
      ]
    },
    {
      "cell_type": "markdown",
      "metadata": {
        "id": "mnSjpV7lQJhr"
      },
      "source": [
        "7. print dimension of array"
      ]
    },
    {
      "cell_type": "code",
      "metadata": {
        "colab": {
          "base_uri": "https://localhost:8080/"
        },
        "id": "6T95C18WQCSl",
        "outputId": "a5391aa9-dc95-4b0f-9f3a-b8a6eab848b3"
      },
      "source": [
        "ar3d.ndim"
      ],
      "execution_count": 189,
      "outputs": [
        {
          "output_type": "execute_result",
          "data": {
            "text/plain": [
              "3"
            ]
          },
          "metadata": {
            "tags": []
          },
          "execution_count": 189
        }
      ]
    },
    {
      "cell_type": "markdown",
      "metadata": {
        "id": "2mW_dyBqQYzV"
      },
      "source": [
        "8. print datatype of array"
      ]
    },
    {
      "cell_type": "code",
      "metadata": {
        "colab": {
          "base_uri": "https://localhost:8080/",
          "height": 35
        },
        "id": "VtqazpqmQgYf",
        "outputId": "d72c15de-6620-4c91-a984-0ccc6c5d68d2"
      },
      "source": [
        "ar3d.dtype.name"
      ],
      "execution_count": 190,
      "outputs": [
        {
          "output_type": "execute_result",
          "data": {
            "application/vnd.google.colaboratory.intrinsic+json": {
              "type": "string"
            },
            "text/plain": [
              "'int64'"
            ]
          },
          "metadata": {
            "tags": []
          },
          "execution_count": 190
        }
      ]
    },
    {
      "cell_type": "markdown",
      "metadata": {
        "id": "9ogalW5uQlqe"
      },
      "source": [
        "9. print item size of array"
      ]
    },
    {
      "cell_type": "code",
      "metadata": {
        "colab": {
          "base_uri": "https://localhost:8080/"
        },
        "id": "WPMPgoeuQp2-",
        "outputId": "55d3a037-5d00-40e7-e41f-c853a96cee8d"
      },
      "source": [
        "ar3d.size"
      ],
      "execution_count": 191,
      "outputs": [
        {
          "output_type": "execute_result",
          "data": {
            "text/plain": [
              "15"
            ]
          },
          "metadata": {
            "tags": []
          },
          "execution_count": 191
        }
      ]
    },
    {
      "cell_type": "markdown",
      "metadata": {
        "id": "-DO7VgJgQuz3"
      },
      "source": [
        "10. printing 2d zeros (default prints float64)"
      ]
    },
    {
      "cell_type": "code",
      "metadata": {
        "colab": {
          "base_uri": "https://localhost:8080/"
        },
        "id": "DXjdMd62SJtu",
        "outputId": "4c5c7976-2f34-422a-c878-fd608e196c17"
      },
      "source": [
        "np.zeros((3,4))"
      ],
      "execution_count": 192,
      "outputs": [
        {
          "output_type": "execute_result",
          "data": {
            "text/plain": [
              "array([[0., 0., 0., 0.],\n",
              "       [0., 0., 0., 0.],\n",
              "       [0., 0., 0., 0.]])"
            ]
          },
          "metadata": {
            "tags": []
          },
          "execution_count": 192
        }
      ]
    },
    {
      "cell_type": "markdown",
      "metadata": {
        "id": "-HaXnaPeSvt0"
      },
      "source": [
        "11. printing 2d ones"
      ]
    },
    {
      "cell_type": "code",
      "metadata": {
        "colab": {
          "base_uri": "https://localhost:8080/"
        },
        "id": "_-gW6lPoTP5x",
        "outputId": "3eed665b-9448-420d-c17a-5f0fd4ddb009"
      },
      "source": [
        "np.ones((3,4))"
      ],
      "execution_count": 193,
      "outputs": [
        {
          "output_type": "execute_result",
          "data": {
            "text/plain": [
              "array([[1., 1., 1., 1.],\n",
              "       [1., 1., 1., 1.],\n",
              "       [1., 1., 1., 1.]])"
            ]
          },
          "metadata": {
            "tags": []
          },
          "execution_count": 193
        }
      ]
    },
    {
      "cell_type": "markdown",
      "metadata": {
        "id": "Y8lk6LVdTZpP"
      },
      "source": [
        "12. the function empty creates an array whose initial content is random and depends on the state of the memory"
      ]
    },
    {
      "cell_type": "code",
      "metadata": {
        "colab": {
          "base_uri": "https://localhost:8080/"
        },
        "id": "rKVCVczgToMj",
        "outputId": "f3e48785-f965-42bb-9982-8af4eaa4c655"
      },
      "source": [
        "np.empty( (2,3) ) "
      ],
      "execution_count": 194,
      "outputs": [
        {
          "output_type": "execute_result",
          "data": {
            "text/plain": [
              "array([[2.07955588e-312, 2.07955588e-312, 2.12199579e-312],\n",
              "       [2.12199579e-312, 2.14321575e-312, 2.18565567e-312]])"
            ]
          },
          "metadata": {
            "tags": []
          },
          "execution_count": 194
        }
      ]
    },
    {
      "cell_type": "markdown",
      "metadata": {
        "id": "P-WibW7nTyTw"
      },
      "source": [
        "13. arranging 2D array  with inciment of 5"
      ]
    },
    {
      "cell_type": "code",
      "metadata": {
        "colab": {
          "base_uri": "https://localhost:8080/"
        },
        "id": "y7CCBtltUBiV",
        "outputId": "686ca8ea-d265-41db-84c0-397be0b1cddf"
      },
      "source": [
        "np.arange( 10, 30, 5 )"
      ],
      "execution_count": 195,
      "outputs": [
        {
          "output_type": "execute_result",
          "data": {
            "text/plain": [
              "array([10, 15, 20, 25])"
            ]
          },
          "metadata": {
            "tags": []
          },
          "execution_count": 195
        }
      ]
    },
    {
      "cell_type": "markdown",
      "metadata": {
        "id": "dKsri9jzUf30"
      },
      "source": [
        "14. printing bytes of number"
      ]
    },
    {
      "cell_type": "code",
      "metadata": {
        "colab": {
          "base_uri": "https://localhost:8080/"
        },
        "id": "6dGzB9LrX6ry",
        "outputId": "796a731c-6231-4d45-b845-d6b2eeb26da0"
      },
      "source": [
        "ar3d.itemsize"
      ],
      "execution_count": 196,
      "outputs": [
        {
          "output_type": "execute_result",
          "data": {
            "text/plain": [
              "8"
            ]
          },
          "metadata": {
            "tags": []
          },
          "execution_count": 196
        }
      ]
    },
    {
      "cell_type": "markdown",
      "metadata": {
        "id": "suhAXbGKYlUt"
      },
      "source": [
        "15. linspace creates equal distribution with number passsed"
      ]
    },
    {
      "cell_type": "code",
      "metadata": {
        "colab": {
          "base_uri": "https://localhost:8080/"
        },
        "id": "MVqICiNuY57s",
        "outputId": "39cf652b-3423-4689-b9a3-f429d85fb874"
      },
      "source": [
        "np.linspace(1,3,9)"
      ],
      "execution_count": 197,
      "outputs": [
        {
          "output_type": "execute_result",
          "data": {
            "text/plain": [
              "array([1.  , 1.25, 1.5 , 1.75, 2.  , 2.25, 2.5 , 2.75, 3.  ])"
            ]
          },
          "metadata": {
            "tags": []
          },
          "execution_count": 197
        }
      ]
    },
    {
      "cell_type": "markdown",
      "metadata": {
        "id": "kVHYGSSWZaJT"
      },
      "source": [
        "16. creating boolean array"
      ]
    },
    {
      "cell_type": "code",
      "metadata": {
        "colab": {
          "base_uri": "https://localhost:8080/"
        },
        "id": "itUumXGcZy2b",
        "outputId": "bc7ee055-5995-4364-f29f-db0a45c92f3e"
      },
      "source": [
        "np.array([True], dtype=bool)"
      ],
      "execution_count": 198,
      "outputs": [
        {
          "output_type": "execute_result",
          "data": {
            "text/plain": [
              "array([ True])"
            ]
          },
          "metadata": {
            "tags": []
          },
          "execution_count": 198
        }
      ]
    },
    {
      "cell_type": "markdown",
      "metadata": {
        "id": "m-OzXGm8GMbc"
      },
      "source": [
        "17. Reverse an Array"
      ]
    },
    {
      "cell_type": "code",
      "metadata": {
        "colab": {
          "base_uri": "https://localhost:8080/"
        },
        "id": "QF6tXa_KHjz-",
        "outputId": "2b4c95d3-43a9-4b99-bf80-3ba5622e848f"
      },
      "source": [
        "print(ar1d)\n",
        "np.flipud(ar1d)"
      ],
      "execution_count": 199,
      "outputs": [
        {
          "output_type": "stream",
          "text": [
            "[ 0  1  2  3  4  5  6  7  8  9 10 11 12 13 14]\n"
          ],
          "name": "stdout"
        },
        {
          "output_type": "execute_result",
          "data": {
            "text/plain": [
              "array([14, 13, 12, 11, 10,  9,  8,  7,  6,  5,  4,  3,  2,  1,  0])"
            ]
          },
          "metadata": {
            "tags": []
          },
          "execution_count": 199
        }
      ]
    },
    {
      "cell_type": "markdown",
      "metadata": {
        "id": "vlYB8IncHvUk"
      },
      "source": [
        "18. Printing Arrays"
      ]
    },
    {
      "cell_type": "code",
      "metadata": {
        "colab": {
          "base_uri": "https://localhost:8080/"
        },
        "id": "cFo7K-fOILgj",
        "outputId": "72887a8e-f089-4a12-ba14-d944ca3e8441"
      },
      "source": [
        "print (ar1d)\n",
        "print()\n",
        "print (ar2d)\n",
        "print()\n",
        "print (ar3d)"
      ],
      "execution_count": 200,
      "outputs": [
        {
          "output_type": "stream",
          "text": [
            "[ 0  1  2  3  4  5  6  7  8  9 10 11 12 13 14]\n",
            "\n",
            "[[ 0  1  2  3  4]\n",
            " [ 5  6  7  8  9]\n",
            " [10 11 12 13 14]]\n",
            "\n",
            "[[[ 0  1  2]\n",
            "  [ 3  4  5]\n",
            "  [ 6  7  8]\n",
            "  [ 9 10 11]\n",
            "  [12 13 14]]]\n"
          ],
          "name": "stdout"
        }
      ]
    },
    {
      "cell_type": "markdown",
      "metadata": {
        "id": "PQGKNTQ1IZCi"
      },
      "source": [
        "19. Adding two numpy arrays"
      ]
    },
    {
      "cell_type": "code",
      "metadata": {
        "colab": {
          "base_uri": "https://localhost:8080/"
        },
        "id": "kjgCpx9rI43R",
        "outputId": "6be95fbc-049c-4274-af11-1d23c8b3762e"
      },
      "source": [
        "A = np.array([3,5,6])\n",
        "B = np.array([2,4,8])\n",
        "A+B"
      ],
      "execution_count": 201,
      "outputs": [
        {
          "output_type": "execute_result",
          "data": {
            "text/plain": [
              "array([ 5,  9, 14])"
            ]
          },
          "metadata": {
            "tags": []
          },
          "execution_count": 201
        }
      ]
    },
    {
      "cell_type": "markdown",
      "metadata": {
        "id": "5S5p3AY2JBbF"
      },
      "source": [
        "20. Mupltiplying arrays"
      ]
    },
    {
      "cell_type": "code",
      "metadata": {
        "colab": {
          "base_uri": "https://localhost:8080/"
        },
        "id": "l_QehI2ZJJnD",
        "outputId": "93b6f562-b87e-43a1-fa62-51bdc4c6d3e2"
      },
      "source": [
        "print(A*2)\n",
        "print()\n",
        "print(ar2d*3)"
      ],
      "execution_count": 202,
      "outputs": [
        {
          "output_type": "stream",
          "text": [
            "[ 6 10 12]\n",
            "\n",
            "[[ 0  3  6  9 12]\n",
            " [15 18 21 24 27]\n",
            " [30 33 36 39 42]]\n"
          ],
          "name": "stdout"
        }
      ]
    },
    {
      "cell_type": "markdown",
      "metadata": {
        "id": "nuWdPBDaKDBA"
      },
      "source": [
        "21. Comparing two numpy arrays"
      ]
    },
    {
      "cell_type": "code",
      "metadata": {
        "colab": {
          "base_uri": "https://localhost:8080/"
        },
        "id": "64nt8F-oLulQ",
        "outputId": "b3f34a68-f326-4be4-a33b-c00c4f9079c0"
      },
      "source": [
        "comparision = A == B\n",
        "comparision.all()"
      ],
      "execution_count": 203,
      "outputs": [
        {
          "output_type": "execute_result",
          "data": {
            "text/plain": [
              "False"
            ]
          },
          "metadata": {
            "tags": []
          },
          "execution_count": 203
        }
      ]
    },
    {
      "cell_type": "markdown",
      "metadata": {
        "id": "vqbe225tL9N0"
      },
      "source": [
        "22. Printing odd arrays from a numpy array"
      ]
    },
    {
      "cell_type": "code",
      "metadata": {
        "colab": {
          "base_uri": "https://localhost:8080/"
        },
        "id": "2S_QfsSoMhmv",
        "outputId": "7d622043-15b1-4cba-8ae8-6d4a8a63546d"
      },
      "source": [
        "odd = ar1d % 2 == 1\n",
        "ar1d[odd]"
      ],
      "execution_count": 204,
      "outputs": [
        {
          "output_type": "execute_result",
          "data": {
            "text/plain": [
              "array([ 1,  3,  5,  7,  9, 11, 13])"
            ]
          },
          "metadata": {
            "tags": []
          },
          "execution_count": 204
        }
      ]
    },
    {
      "cell_type": "markdown",
      "metadata": {
        "id": "ZYKt1fEnM9O4"
      },
      "source": [
        "23. Common values in two arrays"
      ]
    },
    {
      "cell_type": "code",
      "metadata": {
        "colab": {
          "base_uri": "https://localhost:8080/"
        },
        "id": "LvMqIKfyOGbl",
        "outputId": "8395b76e-5702-448d-b3ad-390824f21b53"
      },
      "source": [
        "C= np.array([2,3,7,8,9,14])\n",
        "D= np.array([1,3,4,5,9,11])\n",
        "print(np.intersect1d(C, D)) "
      ],
      "execution_count": 205,
      "outputs": [
        {
          "output_type": "stream",
          "text": [
            "[3 9]\n"
          ],
          "name": "stdout"
        }
      ]
    },
    {
      "cell_type": "markdown",
      "metadata": {
        "id": "9F-8MV32Ounb"
      },
      "source": [
        "24. copy numpy array in to new variable"
      ]
    },
    {
      "cell_type": "code",
      "metadata": {
        "colab": {
          "base_uri": "https://localhost:8080/"
        },
        "id": "DFYB-WZyOzXS",
        "outputId": "e459b384-d3cc-49c2-ea8e-e3c6ef39784e"
      },
      "source": [
        "E = C.copy()\n",
        "E"
      ],
      "execution_count": 206,
      "outputs": [
        {
          "output_type": "execute_result",
          "data": {
            "text/plain": [
              "array([ 2,  3,  7,  8,  9, 14])"
            ]
          },
          "metadata": {
            "tags": []
          },
          "execution_count": 206
        }
      ]
    },
    {
      "cell_type": "markdown",
      "metadata": {
        "id": "v4w-33BkQNYO"
      },
      "source": [
        "25. Sorting Arrays"
      ]
    },
    {
      "cell_type": "code",
      "metadata": {
        "colab": {
          "base_uri": "https://localhost:8080/"
        },
        "id": "SQWWqxCfQQ7R",
        "outputId": "d4bb6879-5cce-42fd-8192-9de190a15706"
      },
      "source": [
        "arns = np.array([3,1,-1,10,-10,30,5,3.5])\n",
        "np.sort(arns)"
      ],
      "execution_count": 207,
      "outputs": [
        {
          "output_type": "execute_result",
          "data": {
            "text/plain": [
              "array([-10. ,  -1. ,   1. ,   3. ,   3.5,   5. ,  10. ,  30. ])"
            ]
          },
          "metadata": {
            "tags": []
          },
          "execution_count": 207
        }
      ]
    },
    {
      "cell_type": "markdown",
      "metadata": {
        "id": "h4njNuN9QyJX"
      },
      "source": [
        "26. Concetinating two arrays"
      ]
    },
    {
      "cell_type": "code",
      "metadata": {
        "colab": {
          "base_uri": "https://localhost:8080/"
        },
        "id": "ROX0GSO2Q2h5",
        "outputId": "88c78d06-2ec3-4113-db1f-2b185b6d6b88"
      },
      "source": [
        "np.concatenate((C,D))"
      ],
      "execution_count": 208,
      "outputs": [
        {
          "output_type": "execute_result",
          "data": {
            "text/plain": [
              "array([ 2,  3,  7,  8,  9, 14,  1,  3,  4,  5,  9, 11])"
            ]
          },
          "metadata": {
            "tags": []
          },
          "execution_count": 208
        }
      ]
    },
    {
      "cell_type": "markdown",
      "metadata": {
        "id": "Idy01nQkRIHk"
      },
      "source": [
        "27. Filling an array with zeros"
      ]
    },
    {
      "cell_type": "code",
      "metadata": {
        "colab": {
          "base_uri": "https://localhost:8080/"
        },
        "id": "978LVrrSR4-m",
        "outputId": "3bdd6541-87d7-42b0-9e4f-279f520e9c0b"
      },
      "source": [
        "ar3d.fill(0)\n",
        "ar3d"
      ],
      "execution_count": 209,
      "outputs": [
        {
          "output_type": "execute_result",
          "data": {
            "text/plain": [
              "array([[[0, 0, 0],\n",
              "        [0, 0, 0],\n",
              "        [0, 0, 0],\n",
              "        [0, 0, 0],\n",
              "        [0, 0, 0]]])"
            ]
          },
          "metadata": {
            "tags": []
          },
          "execution_count": 209
        }
      ]
    },
    {
      "cell_type": "markdown",
      "metadata": {
        "id": "WKNozk-PVPWz"
      },
      "source": [
        "28. Resizing an array"
      ]
    },
    {
      "cell_type": "code",
      "metadata": {
        "colab": {
          "base_uri": "https://localhost:8080/"
        },
        "id": "CfI3pttGWmhW",
        "outputId": "b3832e82-5d32-4d2c-d1a0-d5509019fb5e"
      },
      "source": [
        "np.resize(C,(2,3))"
      ],
      "execution_count": 210,
      "outputs": [
        {
          "output_type": "execute_result",
          "data": {
            "text/plain": [
              "array([[ 2,  3,  7],\n",
              "       [ 8,  9, 14]])"
            ]
          },
          "metadata": {
            "tags": []
          },
          "execution_count": 210
        }
      ]
    },
    {
      "cell_type": "markdown",
      "metadata": {
        "id": "KC2Wrx_BXBQP"
      },
      "source": [
        "29. Ravel in numpy 2d array"
      ]
    },
    {
      "cell_type": "code",
      "metadata": {
        "colab": {
          "base_uri": "https://localhost:8080/"
        },
        "id": "qhJZeVHdXSZO",
        "outputId": "831bce90-7c3a-4d1b-bb36-fac433e31cc8"
      },
      "source": [
        "np.ravel(ar2d)"
      ],
      "execution_count": 211,
      "outputs": [
        {
          "output_type": "execute_result",
          "data": {
            "text/plain": [
              "array([0, 0, 0, 0, 0, 0, 0, 0, 0, 0, 0, 0, 0, 0, 0])"
            ]
          },
          "metadata": {
            "tags": []
          },
          "execution_count": 211
        }
      ]
    },
    {
      "cell_type": "markdown",
      "metadata": {
        "id": "3z12ZxmmXhQS"
      },
      "source": [
        "30. Transpose on a 3d array"
      ]
    },
    {
      "cell_type": "code",
      "metadata": {
        "colab": {
          "base_uri": "https://localhost:8080/"
        },
        "id": "pCuVV9uwYs03",
        "outputId": "7c596890-298b-4e22-b3b6-ca6135ff9472"
      },
      "source": [
        "a3d = np.arange(15).reshape(3,1,5)\n",
        "np.transpose(a3d)"
      ],
      "execution_count": 212,
      "outputs": [
        {
          "output_type": "execute_result",
          "data": {
            "text/plain": [
              "array([[[ 0,  5, 10]],\n",
              "\n",
              "       [[ 1,  6, 11]],\n",
              "\n",
              "       [[ 2,  7, 12]],\n",
              "\n",
              "       [[ 3,  8, 13]],\n",
              "\n",
              "       [[ 4,  9, 14]]])"
            ]
          },
          "metadata": {
            "tags": []
          },
          "execution_count": 212
        }
      ]
    },
    {
      "cell_type": "markdown",
      "metadata": {
        "id": "J3tTbu5mZI_d"
      },
      "source": [
        "31. Flatten a 3d array"
      ]
    },
    {
      "cell_type": "code",
      "metadata": {
        "colab": {
          "base_uri": "https://localhost:8080/"
        },
        "id": "-ao4kqzBZW5s",
        "outputId": "52b0cf48-e591-4bb2-f8a0-7a6796aaf341"
      },
      "source": [
        "a3d.flatten()"
      ],
      "execution_count": 213,
      "outputs": [
        {
          "output_type": "execute_result",
          "data": {
            "text/plain": [
              "array([ 0,  1,  2,  3,  4,  5,  6,  7,  8,  9, 10, 11, 12, 13, 14])"
            ]
          },
          "metadata": {
            "tags": []
          },
          "execution_count": 213
        }
      ]
    },
    {
      "cell_type": "markdown",
      "metadata": {
        "id": "wFre0hn7Zi2i"
      },
      "source": [
        "arns"
      ]
    },
    {
      "cell_type": "code",
      "metadata": {
        "colab": {
          "base_uri": "https://localhost:8080/"
        },
        "id": "QNA1eef8Z4aG",
        "outputId": "638e83db-f21c-4626-e399-2c9eb04f5d21"
      },
      "source": [
        "np.amin(arns)"
      ],
      "execution_count": 214,
      "outputs": [
        {
          "output_type": "execute_result",
          "data": {
            "text/plain": [
              "-10.0"
            ]
          },
          "metadata": {
            "tags": []
          },
          "execution_count": 214
        }
      ]
    },
    {
      "cell_type": "markdown",
      "metadata": {
        "id": "Nf1d6SvTaGg1"
      },
      "source": [
        "33. Finding maximum of arns array"
      ]
    },
    {
      "cell_type": "code",
      "metadata": {
        "colab": {
          "base_uri": "https://localhost:8080/"
        },
        "id": "oPRa1E6-aOJJ",
        "outputId": "dad13dde-76e2-406b-c456-cde92ee6b311"
      },
      "source": [
        "np.amax(arns)"
      ],
      "execution_count": 215,
      "outputs": [
        {
          "output_type": "execute_result",
          "data": {
            "text/plain": [
              "30.0"
            ]
          },
          "metadata": {
            "tags": []
          },
          "execution_count": 215
        }
      ]
    },
    {
      "cell_type": "markdown",
      "metadata": {
        "id": "oBrB2ly-aRA8"
      },
      "source": [
        "34. Finding mean of arns array"
      ]
    },
    {
      "cell_type": "code",
      "metadata": {
        "colab": {
          "base_uri": "https://localhost:8080/"
        },
        "id": "Zb5lgDOIaYpy",
        "outputId": "c0aafec3-e50c-43d2-e977-5cbda155dbc7"
      },
      "source": [
        "np.mean(arns)"
      ],
      "execution_count": 216,
      "outputs": [
        {
          "output_type": "execute_result",
          "data": {
            "text/plain": [
              "5.1875"
            ]
          },
          "metadata": {
            "tags": []
          },
          "execution_count": 216
        }
      ]
    },
    {
      "cell_type": "markdown",
      "metadata": {
        "id": "L4b5kiZladZb"
      },
      "source": [
        "35. Finding median of arns array"
      ]
    },
    {
      "cell_type": "code",
      "metadata": {
        "colab": {
          "base_uri": "https://localhost:8080/"
        },
        "id": "Ud5UXGvmahxF",
        "outputId": "1a348119-9c1c-4c7b-a92d-d1a14fb10609"
      },
      "source": [
        "np.median(arns)"
      ],
      "execution_count": 217,
      "outputs": [
        {
          "output_type": "execute_result",
          "data": {
            "text/plain": [
              "3.25"
            ]
          },
          "metadata": {
            "tags": []
          },
          "execution_count": 217
        }
      ]
    },
    {
      "cell_type": "markdown",
      "metadata": {
        "id": "lowBhXpSa3uE"
      },
      "source": [
        "36. Rounding a decimal array"
      ]
    },
    {
      "cell_type": "code",
      "metadata": {
        "colab": {
          "base_uri": "https://localhost:8080/"
        },
        "id": "DPKoEU-3a7u2",
        "outputId": "a369f5f9-2d4e-4fc6-b862-e69fd85795f0"
      },
      "source": [
        "F = np.array([2.34,3.5,9.9,4.6,5.8])\n",
        "np.around(F)"
      ],
      "execution_count": 218,
      "outputs": [
        {
          "output_type": "execute_result",
          "data": {
            "text/plain": [
              "array([ 2.,  4., 10.,  5.,  6.])"
            ]
          },
          "metadata": {
            "tags": []
          },
          "execution_count": 218
        }
      ]
    },
    {
      "cell_type": "markdown",
      "metadata": {
        "id": "Qm7ZZ1kebQ13"
      },
      "source": [
        "37. Saving and loading an array"
      ]
    },
    {
      "cell_type": "code",
      "metadata": {
        "id": "q0PnRhaocmFn"
      },
      "source": [
        "l1 = np.arange(3,10)\n",
        "np.save(\"a1\", l1)"
      ],
      "execution_count": 219,
      "outputs": []
    },
    {
      "cell_type": "code",
      "metadata": {
        "colab": {
          "base_uri": "https://localhost:8080/"
        },
        "id": "kKZIQwbqdBVl",
        "outputId": "68078dc1-7623-4c0f-d095-6ecfe6fd833c"
      },
      "source": [
        "a = np.load('a1.npy')\n",
        "a"
      ],
      "execution_count": 220,
      "outputs": [
        {
          "output_type": "execute_result",
          "data": {
            "text/plain": [
              "array([3, 4, 5, 6, 7, 8, 9])"
            ]
          },
          "metadata": {
            "tags": []
          },
          "execution_count": 220
        }
      ]
    },
    {
      "cell_type": "markdown",
      "metadata": {
        "id": "9K077ebmdPxY"
      },
      "source": [
        "38. Search Sorting values in an array"
      ]
    },
    {
      "cell_type": "code",
      "metadata": {
        "colab": {
          "base_uri": "https://localhost:8080/"
        },
        "id": "8FfLnjnRd6RI",
        "outputId": "033b0001-1c44-43d2-85c5-fc8d9af7116c"
      },
      "source": [
        "np.searchsorted(a,4)"
      ],
      "execution_count": 221,
      "outputs": [
        {
          "output_type": "execute_result",
          "data": {
            "text/plain": [
              "1"
            ]
          },
          "metadata": {
            "tags": []
          },
          "execution_count": 221
        }
      ]
    },
    {
      "cell_type": "markdown",
      "metadata": {
        "id": "D1F4KjZYeN9K"
      },
      "source": [
        "39. Generating random 3D array "
      ]
    },
    {
      "cell_type": "code",
      "metadata": {
        "colab": {
          "base_uri": "https://localhost:8080/"
        },
        "id": "LLaS3gIXeQQS",
        "outputId": "091f7704-ed65-4c6a-b0b4-361696badc71"
      },
      "source": [
        "np.random.rand(5,1,2)"
      ],
      "execution_count": 222,
      "outputs": [
        {
          "output_type": "execute_result",
          "data": {
            "text/plain": [
              "array([[[0.9727534 , 0.46930374]],\n",
              "\n",
              "       [[0.83753663, 0.14452993]],\n",
              "\n",
              "       [[0.63327276, 0.97518814]],\n",
              "\n",
              "       [[0.38430424, 0.09337359]],\n",
              "\n",
              "       [[0.73199274, 0.59190686]]])"
            ]
          },
          "metadata": {
            "tags": []
          },
          "execution_count": 222
        }
      ]
    },
    {
      "cell_type": "markdown",
      "metadata": {
        "id": "u7_Pn4l6ea0A"
      },
      "source": [
        "40. Using numpy condition in array"
      ]
    },
    {
      "cell_type": "code",
      "metadata": {
        "colab": {
          "base_uri": "https://localhost:8080/"
        },
        "id": "BjULkn45e9CV",
        "outputId": "609a9b0f-7abe-4aad-f116-97b9504a3213"
      },
      "source": [
        "arr = np.arange(10,21)\n",
        "np.where(arr<12,arr,arr-1)"
      ],
      "execution_count": 223,
      "outputs": [
        {
          "output_type": "execute_result",
          "data": {
            "text/plain": [
              "array([10, 11, 11, 12, 13, 14, 15, 16, 17, 18, 19])"
            ]
          },
          "metadata": {
            "tags": []
          },
          "execution_count": 223
        }
      ]
    },
    {
      "cell_type": "markdown",
      "metadata": {
        "id": "VhwhgYsTgkAD"
      },
      "source": [
        "41. Counting a value in an array"
      ]
    },
    {
      "cell_type": "code",
      "metadata": {
        "colab": {
          "base_uri": "https://localhost:8080/"
        },
        "id": "SQD0FIlRg--r",
        "outputId": "d1cfb156-ccfc-4bcd-e199-729f7391eeb6"
      },
      "source": [
        "tarr = np.array(['abc','bcd','cde','efg'])\n",
        "np.char.count(tarr,'c')"
      ],
      "execution_count": 224,
      "outputs": [
        {
          "output_type": "execute_result",
          "data": {
            "text/plain": [
              "array([1, 1, 1, 0])"
            ]
          },
          "metadata": {
            "tags": []
          },
          "execution_count": 224
        }
      ]
    },
    {
      "cell_type": "markdown",
      "metadata": {
        "id": "1q-hWex_hzQ_"
      },
      "source": [
        "42. Filtering values in an array"
      ]
    },
    {
      "cell_type": "code",
      "metadata": {
        "colab": {
          "base_uri": "https://localhost:8080/"
        },
        "id": "zugDNrYPiP4p",
        "outputId": "56fdaf0a-6cf3-4c08-ca53-5cc02e68b0fb"
      },
      "source": [
        "bol = [False,True,True,False]\n",
        "tarr[bol]"
      ],
      "execution_count": 225,
      "outputs": [
        {
          "output_type": "execute_result",
          "data": {
            "text/plain": [
              "array(['bcd', 'cde'], dtype='<U3')"
            ]
          },
          "metadata": {
            "tags": []
          },
          "execution_count": 225
        }
      ]
    },
    {
      "cell_type": "markdown",
      "metadata": {
        "id": "49Codw_4iO_6"
      },
      "source": [
        "43. Finding the character that endswith in an array"
      ]
    },
    {
      "cell_type": "code",
      "metadata": {
        "colab": {
          "base_uri": "https://localhost:8080/"
        },
        "id": "DP25IrbqigWj",
        "outputId": "3bd7ecd3-9701-46d6-c369-b8c9118506d6"
      },
      "source": [
        "np.char.endswith(tarr,'g')"
      ],
      "execution_count": 226,
      "outputs": [
        {
          "output_type": "execute_result",
          "data": {
            "text/plain": [
              "array([False, False, False,  True])"
            ]
          },
          "metadata": {
            "tags": []
          },
          "execution_count": 226
        }
      ]
    },
    {
      "cell_type": "markdown",
      "metadata": {
        "id": "J2Fc0rxfiQu6"
      },
      "source": [
        "44. Splitting an array into two"
      ]
    },
    {
      "cell_type": "code",
      "metadata": {
        "colab": {
          "base_uri": "https://localhost:8080/"
        },
        "id": "mqgGEQBAiflJ",
        "outputId": "80ceb1e7-3f74-44d3-fc0d-f80396a9fbd2"
      },
      "source": [
        "np.array_split(arr,2)"
      ],
      "execution_count": 227,
      "outputs": [
        {
          "output_type": "execute_result",
          "data": {
            "text/plain": [
              "[array([10, 11, 12, 13, 14, 15]), array([16, 17, 18, 19, 20])]"
            ]
          },
          "metadata": {
            "tags": []
          },
          "execution_count": 227
        }
      ]
    },
    {
      "cell_type": "markdown",
      "metadata": {
        "id": "ohtjf_SGiRBL"
      },
      "source": [
        "45.Iterating a numpy array"
      ]
    },
    {
      "cell_type": "code",
      "metadata": {
        "colab": {
          "base_uri": "https://localhost:8080/"
        },
        "id": "uyGDZqinifHB",
        "outputId": "95435d30-7b96-471d-e811-780ffa4c4374"
      },
      "source": [
        "arrnew = np.arange(2,15)\n",
        "for x in arrnew:\n",
        "  print(x)"
      ],
      "execution_count": 228,
      "outputs": [
        {
          "output_type": "stream",
          "text": [
            "2\n",
            "3\n",
            "4\n",
            "5\n",
            "6\n",
            "7\n",
            "8\n",
            "9\n",
            "10\n",
            "11\n",
            "12\n",
            "13\n",
            "14\n"
          ],
          "name": "stdout"
        }
      ]
    },
    {
      "cell_type": "markdown",
      "metadata": {
        "id": "cCi6Iq2TiRn4"
      },
      "source": [
        "46.Replacing a value in an array"
      ]
    },
    {
      "cell_type": "code",
      "metadata": {
        "colab": {
          "base_uri": "https://localhost:8080/"
        },
        "id": "Vntc9VOWiepx",
        "outputId": "ec81b3d9-3df7-42cf-82cc-92c7ff32a8c0"
      },
      "source": [
        "arrnew[0]=1\n",
        "arrnew"
      ],
      "execution_count": 229,
      "outputs": [
        {
          "output_type": "execute_result",
          "data": {
            "text/plain": [
              "array([ 1,  3,  4,  5,  6,  7,  8,  9, 10, 11, 12, 13, 14])"
            ]
          },
          "metadata": {
            "tags": []
          },
          "execution_count": 229
        }
      ]
    },
    {
      "cell_type": "markdown",
      "metadata": {
        "id": "5EWrFL-biSF4"
      },
      "source": [
        "47. Printing specific values in an array"
      ]
    },
    {
      "cell_type": "code",
      "metadata": {
        "colab": {
          "base_uri": "https://localhost:8080/"
        },
        "id": "o4NKGN5LieMQ",
        "outputId": "a5c10735-894a-46fd-9142-150b97743de7"
      },
      "source": [
        "print (arrnew[2:7])"
      ],
      "execution_count": 230,
      "outputs": [
        {
          "output_type": "stream",
          "text": [
            "[4 5 6 7 8]\n"
          ],
          "name": "stdout"
        }
      ]
    },
    {
      "cell_type": "markdown",
      "metadata": {
        "id": "SYi1qyGPiYl7"
      },
      "source": [
        "48. Checking value at a specific index on arrray\n",
        "\n"
      ]
    },
    {
      "cell_type": "code",
      "metadata": {
        "colab": {
          "base_uri": "https://localhost:8080/"
        },
        "id": "_gNoAnsqidoJ",
        "outputId": "c93974bc-5f11-4896-81f2-107a13be4391"
      },
      "source": [
        "print (arrnew[10])"
      ],
      "execution_count": 231,
      "outputs": [
        {
          "output_type": "stream",
          "text": [
            "12\n"
          ],
          "name": "stdout"
        }
      ]
    },
    {
      "cell_type": "markdown",
      "metadata": {
        "id": "mAORONueiZo4"
      },
      "source": [
        "49.Chaning type of array from one type to another"
      ]
    },
    {
      "cell_type": "code",
      "metadata": {
        "colab": {
          "base_uri": "https://localhost:8080/"
        },
        "id": "_GSg-sxZidDy",
        "outputId": "0a4dc017-d5cf-4b12-d1fe-adf5ff043f35"
      },
      "source": [
        "arrtyp = arr.astype(str)\n",
        "type(arrtyp)"
      ],
      "execution_count": 232,
      "outputs": [
        {
          "output_type": "execute_result",
          "data": {
            "text/plain": [
              "numpy.ndarray"
            ]
          },
          "metadata": {
            "tags": []
          },
          "execution_count": 232
        }
      ]
    },
    {
      "cell_type": "markdown",
      "metadata": {
        "id": "lcJVKrSoia6X"
      },
      "source": [
        "50.Checking image of an array"
      ]
    },
    {
      "cell_type": "code",
      "metadata": {
        "colab": {
          "base_uri": "https://localhost:8080/"
        },
        "id": "lTYHwB3gicbg",
        "outputId": "c908ebaf-9c4d-4200-a6cc-e578fa34fce5"
      },
      "source": [
        "arrtyp.imag"
      ],
      "execution_count": 233,
      "outputs": [
        {
          "output_type": "execute_result",
          "data": {
            "text/plain": [
              "array(['', '', '', '', '', '', '', '', '', '', ''], dtype='<U21')"
            ]
          },
          "metadata": {
            "tags": []
          },
          "execution_count": 233
        }
      ]
    }
  ]
}